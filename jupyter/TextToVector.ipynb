{
 "cells": [
  {
   "cell_type": "code",
   "execution_count": 1,
   "metadata": {},
   "outputs": [
    {
     "data": {
      "text/html": [
       "<div>\n",
       "<style scoped>\n",
       "    .dataframe tbody tr th:only-of-type {\n",
       "        vertical-align: middle;\n",
       "    }\n",
       "\n",
       "    .dataframe tbody tr th {\n",
       "        vertical-align: top;\n",
       "    }\n",
       "\n",
       "    .dataframe thead th {\n",
       "        text-align: right;\n",
       "    }\n",
       "</style>\n",
       "<table border=\"1\" class=\"dataframe\">\n",
       "  <thead>\n",
       "    <tr style=\"text-align: right;\">\n",
       "      <th></th>\n",
       "      <th>Source</th>\n",
       "      <th>Type</th>\n",
       "      <th>Narration</th>\n",
       "    </tr>\n",
       "  </thead>\n",
       "  <tbody>\n",
       "    <tr>\n",
       "      <th>0</th>\n",
       "      <td>HDFC_1668</td>\n",
       "      <td>CREDIT</td>\n",
       "      <td>CREDIT INTEREST CAPITALISED</td>\n",
       "    </tr>\n",
       "    <tr>\n",
       "      <th>1</th>\n",
       "      <td>HDFC_1668</td>\n",
       "      <td>CREDIT</td>\n",
       "      <td>NEFT CR-KKBK0000958-JAYESH MANILAL PRAJAPATI-J...</td>\n",
       "    </tr>\n",
       "    <tr>\n",
       "      <th>2</th>\n",
       "      <td>HDFC_1668</td>\n",
       "      <td>CREDIT</td>\n",
       "      <td>IMPS-914921830338-JAYESH MANILAL PRAJA-HDFC-XX...</td>\n",
       "    </tr>\n",
       "    <tr>\n",
       "      <th>3</th>\n",
       "      <td>HDFC_1668</td>\n",
       "      <td>CREDIT</td>\n",
       "      <td>ACH C- INDIABULLS HOUSING-4462246</td>\n",
       "    </tr>\n",
       "    <tr>\n",
       "      <th>4</th>\n",
       "      <td>HDFC_1668</td>\n",
       "      <td>CREDIT</td>\n",
       "      <td>IMPS-911912741894-JAYESH MANILAL PRAJA-HDFC-XX...</td>\n",
       "    </tr>\n",
       "    <tr>\n",
       "      <th>...</th>\n",
       "      <td>...</td>\n",
       "      <td>...</td>\n",
       "      <td>...</td>\n",
       "    </tr>\n",
       "    <tr>\n",
       "      <th>5587</th>\n",
       "      <td>PAYTM_9820875260</td>\n",
       "      <td>DEBIT</td>\n",
       "      <td>CCD Order #01130010145425040720181354</td>\n",
       "    </tr>\n",
       "    <tr>\n",
       "      <th>5588</th>\n",
       "      <td>PAYTM_9820875260</td>\n",
       "      <td>DEBIT</td>\n",
       "      <td>Zomato media pvt ltd Order #ZTD1868FD8E3D2287434</td>\n",
       "    </tr>\n",
       "    <tr>\n",
       "      <th>5589</th>\n",
       "      <td>PAYTM_9820875260</td>\n",
       "      <td>DEBIT</td>\n",
       "      <td>Reliance Jio Order #BR0001DJGFEC</td>\n",
       "    </tr>\n",
       "    <tr>\n",
       "      <th>5590</th>\n",
       "      <td>PAYTM_9820875260</td>\n",
       "      <td>DEBIT</td>\n",
       "      <td>Zomato media pvt ltd Order #ZTD184D51958C15B8461</td>\n",
       "    </tr>\n",
       "    <tr>\n",
       "      <th>5591</th>\n",
       "      <td>PAYTM_9820875260</td>\n",
       "      <td>DEBIT</td>\n",
       "      <td>Zomato media pvt ltd Order #ZTZTIP18C832C6D4AF08</td>\n",
       "    </tr>\n",
       "  </tbody>\n",
       "</table>\n",
       "<p>5592 rows × 3 columns</p>\n",
       "</div>"
      ],
      "text/plain": [
       "                Source    Type  \\\n",
       "0            HDFC_1668  CREDIT   \n",
       "1            HDFC_1668  CREDIT   \n",
       "2            HDFC_1668  CREDIT   \n",
       "3            HDFC_1668  CREDIT   \n",
       "4            HDFC_1668  CREDIT   \n",
       "...                ...     ...   \n",
       "5587  PAYTM_9820875260   DEBIT   \n",
       "5588  PAYTM_9820875260   DEBIT   \n",
       "5589  PAYTM_9820875260   DEBIT   \n",
       "5590  PAYTM_9820875260   DEBIT   \n",
       "5591  PAYTM_9820875260   DEBIT   \n",
       "\n",
       "                                              Narration  \n",
       "0                           CREDIT INTEREST CAPITALISED  \n",
       "1     NEFT CR-KKBK0000958-JAYESH MANILAL PRAJAPATI-J...  \n",
       "2     IMPS-914921830338-JAYESH MANILAL PRAJA-HDFC-XX...  \n",
       "3                     ACH C- INDIABULLS HOUSING-4462246  \n",
       "4     IMPS-911912741894-JAYESH MANILAL PRAJA-HDFC-XX...  \n",
       "...                                                 ...  \n",
       "5587              CCD Order #01130010145425040720181354  \n",
       "5588   Zomato media pvt ltd Order #ZTD1868FD8E3D2287434  \n",
       "5589                   Reliance Jio Order #BR0001DJGFEC  \n",
       "5590   Zomato media pvt ltd Order #ZTD184D51958C15B8461  \n",
       "5591   Zomato media pvt ltd Order #ZTZTIP18C832C6D4AF08  \n",
       "\n",
       "[5592 rows x 3 columns]"
      ]
     },
     "execution_count": 1,
     "metadata": {},
     "output_type": "execute_result"
    }
   ],
   "source": [
    "import torch\n",
    "import torch.nn as nn\n",
    "import torch.nn.functional as F\n",
    "import torch.optim as optim\n",
    "import pandas as pd\n",
    "import matplotlib.pyplot as plt\n",
    "\n",
    "# read csv file\n",
    "data = pd.read_csv('consolidated-statements.csv', sep=',')\n",
    "filteredData = data.filter(['Source', 'Type', 'Narration']);\n",
    "\n",
    "filteredData"
   ]
  },
  {
   "cell_type": "code",
   "execution_count": 2,
   "metadata": {},
   "outputs": [
    {
     "name": "stdout",
     "output_type": "stream",
     "text": [
      "Bag of words length - 1679\n"
     ]
    },
    {
     "data": {
      "text/plain": [
       "49185"
      ]
     },
     "execution_count": 2,
     "metadata": {},
     "output_type": "execute_result"
    }
   ],
   "source": [
    "import re\n",
    "MIN_WORD_SIZE=3\n",
    "test_text = \"\"\n",
    "filteredValues = filteredData.values\n",
    "for i in range(len(filteredValues)):\n",
    "    text = filteredValues[i][0] + ' ' + filteredValues[i][1] + ' ' + filteredValues[i][2]\n",
    "    preprocessed_text = re.sub('(N+)', ' NNN ', re.sub('[0-9]', 'N', text.lower()))\n",
    "    test_text = test_text + ' ' + preprocessed_text\n",
    "    \n",
    "# split test text\n",
    "test_text_split = list(filter(lambda word: len(word) >= MIN_WORD_SIZE, re.split(r'(,|_|-|/|\\\\|\\s)\\s*', test_text)))\n",
    "\n",
    "# create trigrams\n",
    "trigrams = [([test_text_split[i], test_text_split[i + 1]], test_text_split[i + 2])\n",
    "            for i in range(len(test_text_split) - 2)]\n",
    "\n",
    "# create vocab from word split of test text\n",
    "vocab = set(test_text_split)\n",
    "\n",
    "# create bag of words from vocab\n",
    "word_to_ix = {word: i for i, word in enumerate(vocab)}\n",
    "\n",
    "print('Bag of words length - ' + str(len(word_to_ix)))\n",
    "len(trigrams)"
   ]
  },
  {
   "cell_type": "code",
   "execution_count": 4,
   "metadata": {},
   "outputs": [
    {
     "name": "stdout",
     "output_type": "stream",
     "text": [
      "Starting Epoch iterations ...\n",
      "Epoch iteration no. 0 ...\n",
      "Loss in this iteration - 141871.59705452778\n",
      "Epoch iteration no. 1 ...\n",
      "Loss in this iteration - 105563.39315087834\n",
      "Epoch iteration no. 2 ...\n",
      "Loss in this iteration - 92070.79505306079\n",
      "Epoch iteration no. 3 ...\n",
      "Loss in this iteration - 83846.38441041586\n",
      "Epoch iteration no. 4 ...\n",
      "Loss in this iteration - 78254.70624964967\n",
      "Epoch iteration no. 5 ...\n",
      "Loss in this iteration - 74073.14088842714\n",
      "Epoch iteration no. 6 ...\n",
      "Loss in this iteration - 70710.24334811456\n",
      "Epoch iteration no. 7 ...\n",
      "Loss in this iteration - 67925.85389956462\n",
      "Epoch iteration no. 8 ...\n",
      "Loss in this iteration - 65577.07865532045\n",
      "Epoch iteration no. 9 ...\n",
      "Loss in this iteration - 63556.69553248256\n",
      "[141871.59705452778, 105563.39315087834, 92070.79505306079, 83846.38441041586, 78254.70624964967, 74073.14088842714, 70710.24334811456, 67925.85389956462, 65577.07865532045, 63556.69553248256]\n"
     ]
    }
   ],
   "source": [
    "CONTEXT_SIZE=2\n",
    "EMBEDDING_DIM=10\n",
    "\n",
    "class NGramLanguageModeler(nn.Module):\n",
    "\n",
    "    def __init__(self, vocab_size, embedding_dim, context_size):\n",
    "        super(NGramLanguageModeler, self).__init__()\n",
    "        self.embeddings = nn.Embedding(vocab_size, embedding_dim)\n",
    "        self.linear1 = nn.Linear(context_size * embedding_dim, 128)\n",
    "        self.linear2 = nn.Linear(128, vocab_size)\n",
    "\n",
    "    def forward(self, inputs):\n",
    "        embeds = self.embeddings(inputs).view((1, -1))\n",
    "        out = F.relu(self.linear1(embeds))\n",
    "        out = self.linear2(out)\n",
    "        log_probs = F.log_softmax(out, dim=1)\n",
    "        return log_probs\n",
    "\n",
    "\n",
    "\n",
    "losses = []\n",
    "loss_function = nn.NLLLoss()\n",
    "model = NGramLanguageModeler(len(vocab), EMBEDDING_DIM, CONTEXT_SIZE)\n",
    "optimizer = optim.SGD(model.parameters(), lr=0.001)\n",
    "\n",
    "print('Starting Epoch iterations ...')\n",
    "for epoch in range(10):\n",
    "    total_loss = 0\n",
    "    print('Epoch iteration no. ' + str(epoch) + ' ...')\n",
    "    for context, target in trigrams:\n",
    "        context_idxs = torch.tensor([word_to_ix[w] for w in context], dtype=torch.long)\n",
    "        model.zero_grad()\n",
    "        log_probs = model(context_idxs)\n",
    "        loss = loss_function(log_probs, torch.tensor([word_to_ix[target]], dtype=torch.long))\n",
    "        loss.backward()\n",
    "        optimizer.step()\n",
    "        total_loss += loss.item()\n",
    "    print('Loss in this iteration - ' + str(total_loss))\n",
    "    losses.append(total_loss)\n",
    "print(losses)"
   ]
  },
  {
   "cell_type": "code",
   "execution_count": 5,
   "metadata": {},
   "outputs": [
    {
     "name": "stdout",
     "output_type": "stream",
     "text": [
      "Starting Epoch iterations ...\n",
      "Epoch iteration no. 0 ...\n",
      "Loss in this iteration - 61801.78295147545\n",
      "Epoch iteration no. 1 ...\n",
      "Loss in this iteration - 60259.510072769845\n",
      "Epoch iteration no. 2 ...\n",
      "Loss in this iteration - 58874.91372604875\n",
      "Epoch iteration no. 3 ...\n",
      "Loss in this iteration - 57617.516171606556\n",
      "Epoch iteration no. 4 ...\n",
      "Loss in this iteration - 56473.19627365093\n",
      "Epoch iteration no. 5 ...\n",
      "Loss in this iteration - 55419.91648447178\n",
      "Epoch iteration no. 6 ...\n",
      "Loss in this iteration - 54457.05880519524\n",
      "Epoch iteration no. 7 ...\n",
      "Loss in this iteration - 53556.07865188635\n",
      "Epoch iteration no. 8 ...\n",
      "Loss in this iteration - 52745.25296808808\n",
      "Epoch iteration no. 9 ...\n",
      "Loss in this iteration - 51979.1788498352\n",
      "[141871.59705452778, 105563.39315087834, 92070.79505306079, 83846.38441041586, 78254.70624964967, 74073.14088842714, 70710.24334811456, 67925.85389956462, 65577.07865532045, 63556.69553248256, 61801.78295147545, 60259.510072769845, 58874.91372604875, 57617.516171606556, 56473.19627365093, 55419.91648447178, 54457.05880519524, 53556.07865188635, 52745.25296808808, 51979.1788498352]\n"
     ]
    }
   ],
   "source": [
    "print('Starting Epoch iterations ...')\n",
    "for epoch in range(10):\n",
    "    total_loss = 0\n",
    "    print('Epoch iteration no. ' + str(epoch) + ' ...')\n",
    "    for context, target in trigrams:\n",
    "        context_idxs = torch.tensor([word_to_ix[w] for w in context], dtype=torch.long)\n",
    "        model.zero_grad()\n",
    "        log_probs = model(context_idxs)\n",
    "        loss = loss_function(log_probs, torch.tensor([word_to_ix[target]], dtype=torch.long))\n",
    "        loss.backward()\n",
    "        optimizer.step()\n",
    "        total_loss += loss.item()\n",
    "    print('Loss in this iteration - ' + str(total_loss))\n",
    "    losses.append(total_loss)\n",
    "print(losses)"
   ]
  },
  {
   "cell_type": "code",
   "execution_count": 22,
   "metadata": {},
   "outputs": [
    {
     "name": "stdout",
     "output_type": "stream",
     "text": [
      "Saving trained model v0.1 ...\n"
     ]
    }
   ],
   "source": [
    "print('Saving trained model v0.1 ...')\n",
    "torch.save(model, 'model_v0.1.pt')\n"
   ]
  },
  {
   "cell_type": "code",
   "execution_count": 16,
   "metadata": {},
   "outputs": [
    {
     "name": "stdout",
     "output_type": "stream",
     "text": [
      "Loading trained model v0.1 ...\n",
      "Starting Epoch iterations on loaded model v0.1 ...\n",
      "Epoch iteration no. 0 ...\n",
      "Loss in this iteration - 51257.546708449154\n",
      "Epoch iteration no. 1 ...\n",
      "Loss in this iteration - 50576.92935818025\n",
      "Epoch iteration no. 2 ...\n",
      "Loss in this iteration - 49926.59133454486\n",
      "Epoch iteration no. 3 ...\n",
      "Loss in this iteration - 49321.7889211978\n",
      "Epoch iteration no. 4 ...\n",
      "Loss in this iteration - 48759.12520646511\n",
      "Epoch iteration no. 5 ...\n",
      "Loss in this iteration - 48238.24063310995\n",
      "Epoch iteration no. 6 ...\n",
      "Loss in this iteration - 47727.70138587325\n",
      "Epoch iteration no. 7 ...\n",
      "Loss in this iteration - 47254.770242834275\n",
      "Epoch iteration no. 8 ...\n",
      "Loss in this iteration - 46807.11957786247\n",
      "Epoch iteration no. 9 ...\n",
      "Loss in this iteration - 46383.540935100966\n",
      "[51257.546708449154, 50576.92935818025, 49926.59133454486, 49321.7889211978, 48759.12520646511, 48238.24063310995, 47727.70138587325, 47254.770242834275, 46807.11957786247, 46383.540935100966]\n"
     ]
    }
   ],
   "source": [
    "print('Loading trained model v0.1 ...')\n",
    "model2 = torch.load('model_v0.1.pt')\n",
    "losses = []\n",
    "optimizer = optim.SGD(model2.parameters(), lr=0.001)\n",
    "print('Starting Epoch iterations on loaded model v0.1 ...')\n",
    "for epoch in range(10):\n",
    "    total_loss = 0\n",
    "    print('Epoch iteration no. ' + str(epoch) + ' ...')\n",
    "    for context, target in trigrams:\n",
    "        context_idxs = torch.tensor([word_to_ix[w] for w in context], dtype=torch.long)\n",
    "        model2.zero_grad()\n",
    "        log_probs = model2(context_idxs)\n",
    "        loss = loss_function(log_probs, torch.tensor([word_to_ix[target]], dtype=torch.long))\n",
    "        loss.backward()\n",
    "        optimizer.step()\n",
    "        total_loss += loss.item()\n",
    "    print('Loss in this iteration - ' + str(total_loss))\n",
    "    losses.append(total_loss)\n",
    "print(losses)"
   ]
  },
  {
   "cell_type": "code",
   "execution_count": 21,
   "metadata": {},
   "outputs": [
    {
     "name": "stdout",
     "output_type": "stream",
     "text": [
      "Saving trained model2 v0.2 ...\n"
     ]
    }
   ],
   "source": [
    "print('Saving trained model2 v0.2 ...')\n",
    "torch.save(model2, 'model_v0.2.pt')\n"
   ]
  },
  {
   "cell_type": "code",
   "execution_count": 18,
   "metadata": {},
   "outputs": [
    {
     "data": {
      "text/plain": [
       "tensor([[-11.4456, -10.7538,  -9.6564,  ..., -12.3577, -12.6709,  -5.9774]],\n",
       "       grad_fn=<LogSoftmaxBackward>)"
      ]
     },
     "execution_count": 18,
     "metadata": {},
     "output_type": "execute_result"
    }
   ],
   "source": [
    "result = model.forward(torch.tensor([word_to_ix['jayesh'], word_to_ix['manilal']], dtype=torch.long))\n",
    "result"
   ]
  },
  {
   "cell_type": "code",
   "execution_count": 19,
   "metadata": {},
   "outputs": [
    {
     "data": {
      "text/plain": [
       "tensor([[-12.0818, -11.5486, -10.6210,  ..., -14.0178, -14.4057,  -6.6023]],\n",
       "       grad_fn=<LogSoftmaxBackward>)"
      ]
     },
     "execution_count": 19,
     "metadata": {},
     "output_type": "execute_result"
    }
   ],
   "source": [
    "result = model2.forward(torch.tensor([word_to_ix['jayesh'], word_to_ix['manilal']], dtype=torch.long))\n",
    "result"
   ]
  },
  {
   "cell_type": "code",
   "execution_count": 27,
   "metadata": {},
   "outputs": [
    {
     "name": "stdout",
     "output_type": "stream",
     "text": [
      "1679 -20.701175689697266 -0.032097600400447845\n"
     ]
    }
   ],
   "source": [
    "result = model(torch.tensor([word_to_ix['ccd'], word_to_ix['order']], dtype=torch.long)).tolist()\n",
    "print(str(len(result[0])) + ' ' + str(min(result[0])) + ' ' + str(max(result[0])))"
   ]
  },
  {
   "cell_type": "code",
   "execution_count": 29,
   "metadata": {},
   "outputs": [
    {
     "data": {
      "text/plain": [
       "1082.9679023995996"
      ]
     },
     "execution_count": 29,
     "metadata": {},
     "output_type": "execute_result"
    }
   ],
   "source": [
    "word_to_ix['ccd'] + (-0.032097600400447845)"
   ]
  },
  {
   "cell_type": "code",
   "execution_count": 34,
   "metadata": {},
   "outputs": [
    {
     "name": "stdout",
     "output_type": "stream",
     "text": [
      "Min Word: caafb\n",
      "Min Word: eccdbe\n",
      "Max Word: ketan\n",
      "Max Word: mysore\n"
     ]
    }
   ],
   "source": [
    "for word, index in word_to_ix.items():\n",
    "    if index == 1062:\n",
    "        print('Min Word: ' + word)\n",
    "    if index == 1063:\n",
    "        print('Min Word: ' + word)\n",
    "    if index == 1084:\n",
    "        print('Max Word: ' + word)\n",
    "    if index == 1082:\n",
    "        print('Max Word: ' + word)"
   ]
  },
  {
   "cell_type": "code",
   "execution_count": null,
   "metadata": {},
   "outputs": [],
   "source": []
  }
 ],
 "metadata": {
  "kernelspec": {
   "display_name": "Python 3",
   "language": "python",
   "name": "python3"
  },
  "language_info": {
   "codemirror_mode": {
    "name": "ipython",
    "version": 3
   },
   "file_extension": ".py",
   "mimetype": "text/x-python",
   "name": "python",
   "nbconvert_exporter": "python",
   "pygments_lexer": "ipython3",
   "version": "3.7.6"
  }
 },
 "nbformat": 4,
 "nbformat_minor": 4
}
