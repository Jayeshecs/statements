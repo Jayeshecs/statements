{
 "cells": [
  {
   "cell_type": "code",
   "execution_count": 8,
   "metadata": {},
   "outputs": [
    {
     "data": {
      "text/plain": [
       "'5592 records loaded from consolidated-statements.csv file'"
      ]
     },
     "execution_count": 8,
     "metadata": {},
     "output_type": "execute_result"
    }
   ],
   "source": [
    "import pandas as pd\n",
    "import matplotlib.pyplot as plt\n",
    "\n",
    "# read csv file\n",
    "data = pd.read_csv('consolidated-statements.csv', sep=',')\n",
    "\n",
    "str(len(data.values)) + \" records loaded from consolidated-statements.csv file\""
   ]
  },
  {
   "cell_type": "code",
   "execution_count": 55,
   "metadata": {},
   "outputs": [
    {
     "data": {
      "text/plain": [
       "<matplotlib.axes._subplots.AxesSubplot at 0x7fd64ffe68d0>"
      ]
     },
     "execution_count": 55,
     "metadata": {},
     "output_type": "execute_result"
    },
    {
     "data": {
      "image/png": "[encoded data removed]",
      "text/plain": [
       "<Figure size 432x288 with 1 Axes>"
      ]
     },
     "metadata": {
      "needs_background": "light"
     },
     "output_type": "display_data"
    }
   ],
   "source": [
    "# get total records count\n",
    "totalRecords = len(matrix)\n",
    "\n",
    "# Dictionary of records by Source\n",
    "bySource = {}\n",
    "\n",
    "# Dictionary by type CREDIT or DEBIT\n",
    "byType = {};\n",
    "\n",
    "for i in range(totalRecords):\n",
    "    if matrix[i][0] not in bySource:\n",
    "        bySource[matrix[i][0]] = []\n",
    "    bySource[matrix[i][0]].append(matrix[i])\n",
    "    if matrix[i][1] not in byType:\n",
    "        byType[matrix[i][1]] = []\n",
    "    byType[matrix[i][1]].append(matrix[i])\n",
    "\n",
    "temp = {}\n",
    "for src, records in bySource.items():\n",
    "    temp[src] = [len(records)]\n",
    "                       \n",
    "sourceStats = pd.DataFrame.from_dict(temp, orient='index').sort_values(by=[0], ascending=True)\n",
    "\n",
    "sourceStats.plot.barh()"
   ]
  },
  {
   "cell_type": "code",
   "execution_count": 56,
   "metadata": {},
   "outputs": [
    {
     "data": {
      "text/plain": [
       "<matplotlib.axes._subplots.AxesSubplot at 0x7fd64ff5e750>"
      ]
     },
     "execution_count": 56,
     "metadata": {},
     "output_type": "execute_result"
    },
    {
     "data": {
      "image/png": "[encoded data removed]",
      "text/plain": [
       "<Figure size 432x288 with 1 Axes>"
      ]
     },
     "metadata": {
      "needs_background": "light"
     },
     "output_type": "display_data"
    }
   ],
   "source": [
    "temp = {}\n",
    "for typ, records in byType.items():\n",
    "    temp[typ] = [len(records)]\n",
    "                       \n",
    "sourceStats = pd.DataFrame.from_dict(temp, orient='index').sort_values(by=[0], ascending=True)\n",
    "\n",
    "sourceStats.plot.barh()"
   ]
  },
  {
   "cell_type": "code",
   "execution_count": 57,
   "metadata": {},
   "outputs": [
    {
     "data": {
      "text/html": [
       "<div>\n",
       "<style scoped>\n",
       "    .dataframe tbody tr th:only-of-type {\n",
       "        vertical-align: middle;\n",
       "    }\n",
       "\n",
       "    .dataframe tbody tr th {\n",
       "        vertical-align: top;\n",
       "    }\n",
       "\n",
       "    .dataframe thead th {\n",
       "        text-align: right;\n",
       "    }\n",
       "</style>\n",
       "<table border=\"1\" class=\"dataframe\">\n",
       "  <thead>\n",
       "    <tr style=\"text-align: right;\">\n",
       "      <th></th>\n",
       "      <th>Source</th>\n",
       "      <th>Type</th>\n",
       "      <th>Narration</th>\n",
       "      <th>Reference</th>\n",
       "      <th>Amount</th>\n",
       "      <th>Date</th>\n",
       "    </tr>\n",
       "  </thead>\n",
       "  <tbody>\n",
       "    <tr>\n",
       "      <th>0</th>\n",
       "      <td>HDFC_1668</td>\n",
       "      <td>CREDIT</td>\n",
       "      <td>CREDIT INTEREST CAPITALISED</td>\n",
       "      <td>0</td>\n",
       "      <td>1628</td>\n",
       "      <td>2019-06-30 00:00:00.0</td>\n",
       "    </tr>\n",
       "    <tr>\n",
       "      <th>1</th>\n",
       "      <td>HDFC_1668</td>\n",
       "      <td>CREDIT</td>\n",
       "      <td>NEFT CR-KKBK0000958-JAYESH MANILAL PRAJAPATI-J...</td>\n",
       "      <td>KKBKH19178774518</td>\n",
       "      <td>184959</td>\n",
       "      <td>2019-06-27 00:00:00.0</td>\n",
       "    </tr>\n",
       "    <tr>\n",
       "      <th>2</th>\n",
       "      <td>HDFC_1668</td>\n",
       "      <td>CREDIT</td>\n",
       "      <td>IMPS-914921830338-JAYESH MANILAL PRAJA-HDFC-XX...</td>\n",
       "      <td>914921830338</td>\n",
       "      <td>184960</td>\n",
       "      <td>2019-05-29 00:00:00.0</td>\n",
       "    </tr>\n",
       "    <tr>\n",
       "      <th>3</th>\n",
       "      <td>HDFC_1668</td>\n",
       "      <td>CREDIT</td>\n",
       "      <td>ACH C- INDIABULLS HOUSING-4462246</td>\n",
       "      <td>9669445368</td>\n",
       "      <td>170</td>\n",
       "      <td>2019-05-14 00:00:00.0</td>\n",
       "    </tr>\n",
       "    <tr>\n",
       "      <th>4</th>\n",
       "      <td>HDFC_1668</td>\n",
       "      <td>CREDIT</td>\n",
       "      <td>IMPS-911912741894-JAYESH MANILAL PRAJA-HDFC-XX...</td>\n",
       "      <td>911912741894</td>\n",
       "      <td>186196</td>\n",
       "      <td>2019-04-29 00:00:00.0</td>\n",
       "    </tr>\n",
       "    <tr>\n",
       "      <th>...</th>\n",
       "      <td>...</td>\n",
       "      <td>...</td>\n",
       "      <td>...</td>\n",
       "      <td>...</td>\n",
       "      <td>...</td>\n",
       "      <td>...</td>\n",
       "    </tr>\n",
       "    <tr>\n",
       "      <th>5587</th>\n",
       "      <td>PAYTM_9820875260</td>\n",
       "      <td>DEBIT</td>\n",
       "      <td>CCD Order #01130010145425040720181354</td>\n",
       "      <td>19543648401</td>\n",
       "      <td>237</td>\n",
       "      <td>2018-07-04 13:54:41.0</td>\n",
       "    </tr>\n",
       "    <tr>\n",
       "      <th>5588</th>\n",
       "      <td>PAYTM_9820875260</td>\n",
       "      <td>DEBIT</td>\n",
       "      <td>Zomato media pvt ltd Order #ZTD1868FD8E3D2287434</td>\n",
       "      <td>19535521271</td>\n",
       "      <td>616</td>\n",
       "      <td>2018-07-03 20:49:29.0</td>\n",
       "    </tr>\n",
       "    <tr>\n",
       "      <th>5589</th>\n",
       "      <td>PAYTM_9820875260</td>\n",
       "      <td>DEBIT</td>\n",
       "      <td>Reliance Jio Order #BR0001DJGFEC</td>\n",
       "      <td>19513001784</td>\n",
       "      <td>98</td>\n",
       "      <td>2018-07-02 10:24:02.0</td>\n",
       "    </tr>\n",
       "    <tr>\n",
       "      <th>5590</th>\n",
       "      <td>PAYTM_9820875260</td>\n",
       "      <td>DEBIT</td>\n",
       "      <td>Zomato media pvt ltd Order #ZTD184D51958C15B8461</td>\n",
       "      <td>19403686843</td>\n",
       "      <td>313</td>\n",
       "      <td>2018-06-23 20:16:13.0</td>\n",
       "    </tr>\n",
       "    <tr>\n",
       "      <th>5591</th>\n",
       "      <td>PAYTM_9820875260</td>\n",
       "      <td>DEBIT</td>\n",
       "      <td>Zomato media pvt ltd Order #ZTZTIP18C832C6D4AF08</td>\n",
       "      <td>19220199702</td>\n",
       "      <td>10</td>\n",
       "      <td>2018-06-09 20:54:20.0</td>\n",
       "    </tr>\n",
       "  </tbody>\n",
       "</table>\n",
       "<p>5592 rows × 6 columns</p>\n",
       "</div>"
      ],
      "text/plain": [
       "                Source    Type  \\\n",
       "0            HDFC_1668  CREDIT   \n",
       "1            HDFC_1668  CREDIT   \n",
       "2            HDFC_1668  CREDIT   \n",
       "3            HDFC_1668  CREDIT   \n",
       "4            HDFC_1668  CREDIT   \n",
       "...                ...     ...   \n",
       "5587  PAYTM_9820875260   DEBIT   \n",
       "5588  PAYTM_9820875260   DEBIT   \n",
       "5589  PAYTM_9820875260   DEBIT   \n",
       "5590  PAYTM_9820875260   DEBIT   \n",
       "5591  PAYTM_9820875260   DEBIT   \n",
       "\n",
       "                                              Narration         Reference  \\\n",
       "0                           CREDIT INTEREST CAPITALISED                 0   \n",
       "1     NEFT CR-KKBK0000958-JAYESH MANILAL PRAJAPATI-J...  KKBKH19178774518   \n",
       "2     IMPS-914921830338-JAYESH MANILAL PRAJA-HDFC-XX...      914921830338   \n",
       "3                     ACH C- INDIABULLS HOUSING-4462246        9669445368   \n",
       "4     IMPS-911912741894-JAYESH MANILAL PRAJA-HDFC-XX...      911912741894   \n",
       "...                                                 ...               ...   \n",
       "5587              CCD Order #01130010145425040720181354       19543648401   \n",
       "5588   Zomato media pvt ltd Order #ZTD1868FD8E3D2287434       19535521271   \n",
       "5589                   Reliance Jio Order #BR0001DJGFEC       19513001784   \n",
       "5590   Zomato media pvt ltd Order #ZTD184D51958C15B8461       19403686843   \n",
       "5591   Zomato media pvt ltd Order #ZTZTIP18C832C6D4AF08       19220199702   \n",
       "\n",
       "      Amount                   Date  \n",
       "0       1628  2019-06-30 00:00:00.0  \n",
       "1     184959  2019-06-27 00:00:00.0  \n",
       "2     184960  2019-05-29 00:00:00.0  \n",
       "3        170  2019-05-14 00:00:00.0  \n",
       "4     186196  2019-04-29 00:00:00.0  \n",
       "...      ...                    ...  \n",
       "5587     237  2018-07-04 13:54:41.0  \n",
       "5588     616  2018-07-03 20:49:29.0  \n",
       "5589      98  2018-07-02 10:24:02.0  \n",
       "5590     313  2018-06-23 20:16:13.0  \n",
       "5591      10  2018-06-09 20:54:20.0  \n",
       "\n",
       "[5592 rows x 6 columns]"
      ]
     },
     "execution_count": 57,
     "metadata": {},
     "output_type": "execute_result"
    }
   ],
   "source": [
    "data"
   ]
  },
  {
   "cell_type": "code",
   "execution_count": 40,
   "metadata": {},
   "outputs": [
    {
     "ename": "TypeError",
     "evalue": "no numeric data to plot",
     "output_type": "error",
     "traceback": [
      "\u001b[0;31m---------------------------------------------------------------------------\u001b[0m",
      "\u001b[0;31mTypeError\u001b[0m                                 Traceback (most recent call last)",
      "\u001b[0;32m<ipython-input-40-b2c71e51c447>\u001b[0m in \u001b[0;36m<module>\u001b[0;34m\u001b[0m\n\u001b[0;32m----> 1\u001b[0;31m \u001b[0msourceStats\u001b[0m\u001b[0;34m.\u001b[0m\u001b[0mplot\u001b[0m\u001b[0;34m(\u001b[0m\u001b[0mx\u001b[0m\u001b[0;34m=\u001b[0m\u001b[0;34m'Records'\u001b[0m\u001b[0;34m,\u001b[0m \u001b[0my\u001b[0m\u001b[0;34m=\u001b[0m\u001b[0;34m'Source'\u001b[0m\u001b[0;34m)\u001b[0m\u001b[0;34m\u001b[0m\u001b[0;34m\u001b[0m\u001b[0m\n\u001b[0m",
      "\u001b[0;32m/opt/installs/anaconda3/lib/python3.7/site-packages/pandas/plotting/_core.py\u001b[0m in \u001b[0;36m__call__\u001b[0;34m(self, *args, **kwargs)\u001b[0m\n\u001b[1;32m    845\u001b[0m                     \u001b[0mdata\u001b[0m\u001b[0;34m.\u001b[0m\u001b[0mcolumns\u001b[0m \u001b[0;34m=\u001b[0m \u001b[0mlabel_name\u001b[0m\u001b[0;34m\u001b[0m\u001b[0;34m\u001b[0m\u001b[0m\n\u001b[1;32m    846\u001b[0m \u001b[0;34m\u001b[0m\u001b[0m\n\u001b[0;32m--> 847\u001b[0;31m         \u001b[0;32mreturn\u001b[0m \u001b[0mplot_backend\u001b[0m\u001b[0;34m.\u001b[0m\u001b[0mplot\u001b[0m\u001b[0;34m(\u001b[0m\u001b[0mdata\u001b[0m\u001b[0;34m,\u001b[0m \u001b[0mkind\u001b[0m\u001b[0;34m=\u001b[0m\u001b[0mkind\u001b[0m\u001b[0;34m,\u001b[0m \u001b[0;34m**\u001b[0m\u001b[0mkwargs\u001b[0m\u001b[0;34m)\u001b[0m\u001b[0;34m\u001b[0m\u001b[0;34m\u001b[0m\u001b[0m\n\u001b[0m\u001b[1;32m    848\u001b[0m \u001b[0;34m\u001b[0m\u001b[0m\n\u001b[1;32m    849\u001b[0m     \u001b[0m__call__\u001b[0m\u001b[0;34m.\u001b[0m\u001b[0m__doc__\u001b[0m \u001b[0;34m=\u001b[0m \u001b[0m__doc__\u001b[0m\u001b[0;34m\u001b[0m\u001b[0;34m\u001b[0m\u001b[0m\n",
      "\u001b[0;32m/opt/installs/anaconda3/lib/python3.7/site-packages/pandas/plotting/_matplotlib/__init__.py\u001b[0m in \u001b[0;36mplot\u001b[0;34m(data, kind, **kwargs)\u001b[0m\n\u001b[1;32m     59\u001b[0m             \u001b[0mkwargs\u001b[0m\u001b[0;34m[\u001b[0m\u001b[0;34m\"ax\"\u001b[0m\u001b[0;34m]\u001b[0m \u001b[0;34m=\u001b[0m \u001b[0mgetattr\u001b[0m\u001b[0;34m(\u001b[0m\u001b[0max\u001b[0m\u001b[0;34m,\u001b[0m \u001b[0;34m\"left_ax\"\u001b[0m\u001b[0;34m,\u001b[0m \u001b[0max\u001b[0m\u001b[0;34m)\u001b[0m\u001b[0;34m\u001b[0m\u001b[0;34m\u001b[0m\u001b[0m\n\u001b[1;32m     60\u001b[0m     \u001b[0mplot_obj\u001b[0m \u001b[0;34m=\u001b[0m \u001b[0mPLOT_CLASSES\u001b[0m\u001b[0;34m[\u001b[0m\u001b[0mkind\u001b[0m\u001b[0;34m]\u001b[0m\u001b[0;34m(\u001b[0m\u001b[0mdata\u001b[0m\u001b[0;34m,\u001b[0m \u001b[0;34m**\u001b[0m\u001b[0mkwargs\u001b[0m\u001b[0;34m)\u001b[0m\u001b[0;34m\u001b[0m\u001b[0;34m\u001b[0m\u001b[0m\n\u001b[0;32m---> 61\u001b[0;31m     \u001b[0mplot_obj\u001b[0m\u001b[0;34m.\u001b[0m\u001b[0mgenerate\u001b[0m\u001b[0;34m(\u001b[0m\u001b[0;34m)\u001b[0m\u001b[0;34m\u001b[0m\u001b[0;34m\u001b[0m\u001b[0m\n\u001b[0m\u001b[1;32m     62\u001b[0m     \u001b[0mplot_obj\u001b[0m\u001b[0;34m.\u001b[0m\u001b[0mdraw\u001b[0m\u001b[0;34m(\u001b[0m\u001b[0;34m)\u001b[0m\u001b[0;34m\u001b[0m\u001b[0;34m\u001b[0m\u001b[0m\n\u001b[1;32m     63\u001b[0m     \u001b[0;32mreturn\u001b[0m \u001b[0mplot_obj\u001b[0m\u001b[0;34m.\u001b[0m\u001b[0mresult\u001b[0m\u001b[0;34m\u001b[0m\u001b[0;34m\u001b[0m\u001b[0m\n",
      "\u001b[0;32m/opt/installs/anaconda3/lib/python3.7/site-packages/pandas/plotting/_matplotlib/core.py\u001b[0m in \u001b[0;36mgenerate\u001b[0;34m(self)\u001b[0m\n\u001b[1;32m    259\u001b[0m     \u001b[0;32mdef\u001b[0m \u001b[0mgenerate\u001b[0m\u001b[0;34m(\u001b[0m\u001b[0mself\u001b[0m\u001b[0;34m)\u001b[0m\u001b[0;34m:\u001b[0m\u001b[0;34m\u001b[0m\u001b[0;34m\u001b[0m\u001b[0m\n\u001b[1;32m    260\u001b[0m         \u001b[0mself\u001b[0m\u001b[0;34m.\u001b[0m\u001b[0m_args_adjust\u001b[0m\u001b[0;34m(\u001b[0m\u001b[0;34m)\u001b[0m\u001b[0;34m\u001b[0m\u001b[0;34m\u001b[0m\u001b[0m\n\u001b[0;32m--> 261\u001b[0;31m         \u001b[0mself\u001b[0m\u001b[0;34m.\u001b[0m\u001b[0m_compute_plot_data\u001b[0m\u001b[0;34m(\u001b[0m\u001b[0;34m)\u001b[0m\u001b[0;34m\u001b[0m\u001b[0;34m\u001b[0m\u001b[0m\n\u001b[0m\u001b[1;32m    262\u001b[0m         \u001b[0mself\u001b[0m\u001b[0;34m.\u001b[0m\u001b[0m_setup_subplots\u001b[0m\u001b[0;34m(\u001b[0m\u001b[0;34m)\u001b[0m\u001b[0;34m\u001b[0m\u001b[0;34m\u001b[0m\u001b[0m\n\u001b[1;32m    263\u001b[0m         \u001b[0mself\u001b[0m\u001b[0;34m.\u001b[0m\u001b[0m_make_plot\u001b[0m\u001b[0;34m(\u001b[0m\u001b[0;34m)\u001b[0m\u001b[0;34m\u001b[0m\u001b[0;34m\u001b[0m\u001b[0m\n",
      "\u001b[0;32m/opt/installs/anaconda3/lib/python3.7/site-packages/pandas/plotting/_matplotlib/core.py\u001b[0m in \u001b[0;36m_compute_plot_data\u001b[0;34m(self)\u001b[0m\n\u001b[1;32m    408\u001b[0m         \u001b[0;31m# no non-numeric frames or series allowed\u001b[0m\u001b[0;34m\u001b[0m\u001b[0;34m\u001b[0m\u001b[0;34m\u001b[0m\u001b[0m\n\u001b[1;32m    409\u001b[0m         \u001b[0;32mif\u001b[0m \u001b[0mis_empty\u001b[0m\u001b[0;34m:\u001b[0m\u001b[0;34m\u001b[0m\u001b[0;34m\u001b[0m\u001b[0m\n\u001b[0;32m--> 410\u001b[0;31m             \u001b[0;32mraise\u001b[0m \u001b[0mTypeError\u001b[0m\u001b[0;34m(\u001b[0m\u001b[0;34m\"no numeric data to plot\"\u001b[0m\u001b[0;34m)\u001b[0m\u001b[0;34m\u001b[0m\u001b[0;34m\u001b[0m\u001b[0m\n\u001b[0m\u001b[1;32m    411\u001b[0m \u001b[0;34m\u001b[0m\u001b[0m\n\u001b[1;32m    412\u001b[0m         \u001b[0;31m# GH25587: cast ExtensionArray of pandas (IntegerArray, etc.) to\u001b[0m\u001b[0;34m\u001b[0m\u001b[0;34m\u001b[0m\u001b[0;34m\u001b[0m\u001b[0m\n",
      "\u001b[0;31mTypeError\u001b[0m: no numeric data to plot"
     ]
    }
   ],
   "source": [
    "# def record_preprocess(record)\n",
    "#    text_data = record[0] + ' ' + record[1] + ' ' + record[2] + ' ' + record[3]\n",
    "\n",
    "import torch\n",
    "import torchtext\n",
    "\n",
    "NGRAMS = 2\n",
    "import os\n",
    "if not os.path.isdir('./.data'):\n",
    "    os.mkdir('./.data')\n",
    "train_dataset, test_dataset = data(\n",
    "    root='./.data', ngrams=NGRAMS, vocab=None)\n",
    "BATCH_SIZE = 16\n",
    "device = torch.device(\"cuda\" if torch.cuda.is_available() else \"cpu\")"
   ]
  },
  {
   "cell_type": "code",
   "execution_count": null,
   "metadata": {},
   "outputs": [],
   "source": []
  },
  {
   "cell_type": "code",
   "execution_count": null,
   "metadata": {},
   "outputs": [],
   "source": []
  }
 ],
 "metadata": {
  "kernelspec": {
   "display_name": "Python 3",
   "language": "python",
   "name": "python3"
  },
  "language_info": {
   "codemirror_mode": {
    "name": "ipython",
    "version": 3
   },
   "file_extension": ".py",
   "mimetype": "text/x-python",
   "name": "python",
   "nbconvert_exporter": "python",
   "pygments_lexer": "ipython3",
   "version": "3.7.6"
  }
 },
 "nbformat": 4,
 "nbformat_minor": 4
}
